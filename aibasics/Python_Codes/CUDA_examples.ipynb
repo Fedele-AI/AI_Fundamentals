{
 "cells": [
  {
   "cell_type": "code",
   "execution_count": null,
   "metadata": {
    "vscode": {
     "languageId": "plaintext"
    }
   },
   "outputs": [],
   "source": [
    "# %% Example 1: Basic CuPy Array Operations\n",
    "# !pip install cupy\n",
    "import cupy as cp\n",
    "import numpy as np\n",
    "\n",
    "# Create large arrays\n",
    "x_cpu = np.random.rand(10**7)\n",
    "x_gpu = cp.random.rand(10**7)\n",
    "\n",
    "# GPU-accelerated operations\n",
    "y_gpu = cp.sin(x_gpu) * 2 + cp.log(x_gpu)\n",
    "y_cpu = y_gpu.get()  # Transfer back to CPU\n",
    "\n",
    "# Timing comparison\n",
    "%timeit np.sin(x_cpu) * 2 + np.log(x_cpu)  # CPU\n",
    "%timeit cp.sin(x_gpu) * 2 + cp.log(x_gpu)   # GPU"
   ]
  },
  {
   "cell_type": "code",
   "execution_count": null,
   "metadata": {
    "vscode": {
     "languageId": "plaintext"
    }
   },
   "outputs": [],
   "source": [
    "# %% Example 2: Custom CUDA Kernel with CuPy\n",
    "kernel_code = '''\n",
    "extern \"C\" __global__\n",
    "void vector_add(const float* a, const float* b, float* c, int n) {\n",
    "    int tid = blockDim.x * blockIdx.x + threadIdx.x;\n",
    "    if (tid < n) {\n",
    "        c[tid] = a[tid] + b[tid];\n",
    "    }\n",
    "}\n",
    "'''\n",
    "vector_add = cp.RawKernel(kernel_code, 'vector_add')\n",
    "\n",
    "n = 10**7\n",
    "a = cp.random.rand(n, dtype=cp.float32)\n",
    "b = cp.random.rand(n, dtype=cp.float32)\n",
    "c = cp.empty_like(a)\n",
    "\n",
    "# Configure grid/block dimensions\n",
    "threads_per_block = 128\n",
    "blocks_per_grid = (n + threads_per_block - 1) // threads_per_block\n",
    "\n",
    "vector_add((blocks_per_grid,), (threads_per_block,), (a, b, c, n))\n",
    "cp.cuda.Stream.null.synchronize()\n",
    "print(c[:5])  # Show first 5 elements"
   ]
  },
  {
   "cell_type": "code",
   "execution_count": null,
   "metadata": {
    "vscode": {
     "languageId": "plaintext"
    }
   },
   "outputs": [],
   "source": [
    "# %% Example 3: Matrix Multiplication Comparison\n",
    "import cupy as cp\n",
    "\n",
    "# Create large matrices\n",
    "a = cp.random.rand(5000, 5000)\n",
    "b = cp.random.rand(5000, 5000)\n",
    "\n",
    "# Built-in matmul\n",
    "%timeit a @ b\n",
    "\n",
    "# Custom matrix multiplication kernel (naive implementation)\n",
    "matmul_kernel = cp.RawKernel(r'''\n",
    "extern \"C\" __global__\n",
    "void matmul(const float* A, const float* B, float* C, int M, int N, int K) {\n",
    "    int row = blockIdx.y * blockDim.y + threadIdx.y;\n",
    "    int col = blockIdx.x * blockDim.x + threadIdx.x;\n",
    "    \n",
    "    if (row < M && col < N) {\n",
    "        float sum = 0.0f;\n",
    "        for (int k = 0; k < K; k++) {\n",
    "            sum += A[row * K + k] * B[k * N + col];\n",
    "        }\n",
    "        C[row * N + col] = sum;\n",
    "    }\n",
    "}\n",
    "''', 'matmul')\n",
    "\n",
    "c = cp.zeros((5000, 5000))\n",
    "block = (16, 16)\n",
    "grid = ( (5000 + block[0] - 1) // block[0], (5000 + block[1] - 1) // block[1] )\n",
    "\n",
    "%timeit matmul_kernel(grid, block, (a, b, c, 5000, 5000, 5000))"
   ]
  },
  {
   "cell_type": "code",
   "execution_count": null,
   "metadata": {
    "vscode": {
     "languageId": "plaintext"
    }
   },
   "outputs": [],
   "source": [
    "# %% Example 4: Numba CUDA Acceleration\n",
    "# !pip install numba\n",
    "from numba import cuda\n",
    "import numpy as np\n",
    "\n",
    "@cuda.jit\n",
    "def numba_vector_add(a, b, c):\n",
    "    tid = cuda.grid(1)\n",
    "    if tid < len(c):\n",
    "        c[tid] = a[tid] + b[tid]\n",
    "\n",
    "n = 10**7\n",
    "a = np.random.rand(n).astype(np.float32)\n",
    "b = np.random.rand(n).astype(np.float32)\n",
    "c = np.empty_like(a)\n",
    "\n",
    "# Copy to device\n",
    "d_a = cuda.to_device(a)\n",
    "d_b = cuda.to_device(b)\n",
    "d_c = cuda.device_array_like(c)\n",
    "\n",
    "# Configure and launch kernel\n",
    "threads_per_block = 128\n",
    "blocks_per_grid = (n + threads_per_block - 1) // threads_per_block\n",
    "\n",
    "numba_vector_add[blocks_per_grid, threads_per_block](d_a, d_b, d_c)\n",
    "d_c.copy_to_host(c)\n",
    "print(c[:5])  # Show first 5 elements"
   ]
  },
  {
   "cell_type": "code",
   "execution_count": null,
   "metadata": {
    "vscode": {
     "languageId": "plaintext"
    }
   },
   "outputs": [],
   "source": [
    "# %% Example 5: GPU-Accelerated Sorting\n",
    "import cupy as cp\n",
    "import numpy as np\n",
    "\n",
    "n = 10**7\n",
    "data_gpu = cp.random.rand(n)\n",
    "data_cpu = data_gpu.get()\n",
    "\n",
    "# GPU sorting\n",
    "%timeit cp.sort(data_gpu)\n",
    "\n",
    "# CPU sorting\n",
    "%timeit np.sort(data_cpu)"
   ]
  },
  {
   "cell_type": "code",
   "execution_count": null,
   "metadata": {
    "vscode": {
     "languageId": "plaintext"
    }
   },
   "outputs": [],
   "source": [
    "# %% Example 6: Image Processing with CUDA\n",
    "# !pip install Pillow\n",
    "import cupy as cp\n",
    "from PIL import Image\n",
    "\n",
    "# Generate random image (1024x1024 RGB)\n",
    "cpu_img = np.random.randint(0, 256, (1024, 1024, 3), dtype=np.uint8)\n",
    "gpu_img = cp.asarray(cpu_img)\n",
    "\n",
    "# Grayscale conversion kernel\n",
    "gray_kernel = cp.RawKernel(r'''\n",
    "extern \"C\" __global__\n",
    "void rgb2gray(const unsigned char* input, unsigned char* output, int width, int height) {\n",
    "    int x = blockIdx.x * blockDim.x + threadIdx.x;\n",
    "    int y = blockIdx.y * blockDim.y + threadIdx.y;\n",
    "    \n",
    "    if (x < width && y < height) {\n",
    "        int idx = y * width + x;\n",
    "        output[idx] = 0.299f * input[3*idx] + \n",
    "                      0.587f * input[3*idx+1] + \n",
    "                      0.114f * input[3*idx+2];\n",
    "    }\n",
    "}\n",
    "''', 'rgb2gray')\n",
    "\n",
    "# Prepare output buffer\n",
    "gray_gpu = cp.empty((1024, 1024), dtype=cp.uint8)\n",
    "\n",
    "# Launch kernel\n",
    "block = (16, 16)\n",
    "grid = ( (1024 + block[0] - 1) // block[0], (1024 + block[1] - 1) // block[1] )\n",
    "gray_kernel(grid, block, (gpu_img, gray_gpu, 1024, 1024))\n",
    "\n",
    "# Convert back to PIL Image\n",
    "gray_cpu = gray_gpu.get()\n",
    "Image.fromarray(gray_cpu).save('grayscale.jpg')"
   ]
  },
  {
   "cell_type": "code",
   "execution_count": null,
   "metadata": {
    "vscode": {
     "languageId": "plaintext"
    }
   },
   "outputs": [],
   "source": [
    "# %% Example 7: Machine Learning with cuML\n",
    "# !pip install cuml\n",
    "from cuml import KMeans\n",
    "import cupy as cp\n",
    "\n",
    "# Generate sample data\n",
    "n_samples = 10**6\n",
    "n_features = 50\n",
    "X_gpu = cp.random.rand(n_samples, n_features)\n",
    "\n",
    "# GPU-accelerated K-Means\n",
    "kmeans = KMeans(n_clusters=5, max_iter=300)\n",
    "kmeans.fit(X_gpu)\n",
    "\n",
    "print(\"Cluster centers shape:\", kmeans.cluster_centers_.shape)\n",
    "print(\"First 5 labels:\", kmeans.labels_[:5].get())"
   ]
  }
 ],
 "metadata": {
  "language_info": {
   "name": "python"
  }
 },
 "nbformat": 4,
 "nbformat_minor": 2
}
